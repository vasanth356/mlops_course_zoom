{
 "cells": [
  {
   "cell_type": "code",
   "execution_count": 72,
   "id": "fc701b2e-8ae5-4449-b8e9-ae4f95f28294",
   "metadata": {
    "tags": []
   },
   "outputs": [
    {
     "name": "stdout",
     "output_type": "stream",
     "text": [
      "Requirement already satisfied: pandas in /opt/conda/lib/python3.10/site-packages (2.0.3)\n",
      "Requirement already satisfied: pyarrow in /opt/conda/lib/python3.10/site-packages (9.0.0)\n",
      "Requirement already satisfied: python-dateutil>=2.8.2 in /opt/conda/lib/python3.10/site-packages (from pandas) (2.9.0)\n",
      "Requirement already satisfied: pytz>=2020.1 in /opt/conda/lib/python3.10/site-packages (from pandas) (2024.1)\n",
      "Requirement already satisfied: tzdata>=2022.1 in /opt/conda/lib/python3.10/site-packages (from pandas) (2024.1)\n",
      "Requirement already satisfied: numpy>=1.21.0 in /opt/conda/lib/python3.10/site-packages (from pandas) (1.24.4)\n",
      "Requirement already satisfied: six>=1.5 in /opt/conda/lib/python3.10/site-packages (from python-dateutil>=2.8.2->pandas) (1.16.0)\n",
      "Note: you may need to restart the kernel to use updated packages.\n"
     ]
    }
   ],
   "source": [
    "pip install pandas pyarrow"
   ]
  },
  {
   "cell_type": "code",
   "execution_count": 73,
   "id": "9e9a2a8e-4b87-42ec-a292-954e83836b1a",
   "metadata": {
    "tags": []
   },
   "outputs": [],
   "source": [
    "import pandas as pd\n",
    "import pickle\n",
    "import seaborn as sns\n",
    "import matplotlib.pyplot as plt"
   ]
  },
  {
   "cell_type": "code",
   "execution_count": 124,
   "id": "ca92026f-81cf-42b9-913a-df1a384c6da2",
   "metadata": {
    "tags": []
   },
   "outputs": [],
   "source": [
    "from sklearn.feature_extraction import DictVectorizer\n",
    "from sklearn.linear_model import LinearRegression\n",
    "from sklearn.linear_model import Lasso\n",
    "from sklearn.linear_model import Ridge\n",
    "\n",
    "from sklearn.metrics import root_mean_squared_error"
   ]
  },
  {
   "cell_type": "code",
   "execution_count": 75,
   "id": "724acd22-6410-47e0-9345-585897a90292",
   "metadata": {
    "tags": []
   },
   "outputs": [
    {
     "name": "stdout",
     "output_type": "stream",
     "text": [
      "data\t\t    yellow_tripdata_2023-01.parquet\n",
      "introduction.ipynb  yellow_tripdata_2023-02.parquet\n"
     ]
    }
   ],
   "source": [
    "!ls"
   ]
  },
  {
   "cell_type": "code",
   "execution_count": 113,
   "id": "e17cc772-2de3-4bb1-bc9c-a596ed32dfae",
   "metadata": {
    "tags": []
   },
   "outputs": [
    {
     "data": {
      "text/html": [
       "<div>\n",
       "<style scoped>\n",
       "    .dataframe tbody tr th:only-of-type {\n",
       "        vertical-align: middle;\n",
       "    }\n",
       "\n",
       "    .dataframe tbody tr th {\n",
       "        vertical-align: top;\n",
       "    }\n",
       "\n",
       "    .dataframe thead th {\n",
       "        text-align: right;\n",
       "    }\n",
       "</style>\n",
       "<table border=\"1\" class=\"dataframe\">\n",
       "  <thead>\n",
       "    <tr style=\"text-align: right;\">\n",
       "      <th></th>\n",
       "      <th>VendorID</th>\n",
       "      <th>tpep_pickup_datetime</th>\n",
       "      <th>tpep_dropoff_datetime</th>\n",
       "      <th>passenger_count</th>\n",
       "      <th>trip_distance</th>\n",
       "      <th>RatecodeID</th>\n",
       "      <th>store_and_fwd_flag</th>\n",
       "      <th>PULocationID</th>\n",
       "      <th>DOLocationID</th>\n",
       "      <th>payment_type</th>\n",
       "      <th>fare_amount</th>\n",
       "      <th>extra</th>\n",
       "      <th>mta_tax</th>\n",
       "      <th>tip_amount</th>\n",
       "      <th>tolls_amount</th>\n",
       "      <th>improvement_surcharge</th>\n",
       "      <th>total_amount</th>\n",
       "      <th>congestion_surcharge</th>\n",
       "      <th>airport_fee</th>\n",
       "    </tr>\n",
       "  </thead>\n",
       "  <tbody>\n",
       "    <tr>\n",
       "      <th>0</th>\n",
       "      <td>2</td>\n",
       "      <td>2023-01-01 00:32:10</td>\n",
       "      <td>2023-01-01 00:40:36</td>\n",
       "      <td>1.0</td>\n",
       "      <td>0.97</td>\n",
       "      <td>1.0</td>\n",
       "      <td>N</td>\n",
       "      <td>161</td>\n",
       "      <td>141</td>\n",
       "      <td>2</td>\n",
       "      <td>9.3</td>\n",
       "      <td>1.00</td>\n",
       "      <td>0.5</td>\n",
       "      <td>0.00</td>\n",
       "      <td>0.0</td>\n",
       "      <td>1.0</td>\n",
       "      <td>14.30</td>\n",
       "      <td>2.5</td>\n",
       "      <td>0.00</td>\n",
       "    </tr>\n",
       "    <tr>\n",
       "      <th>1</th>\n",
       "      <td>2</td>\n",
       "      <td>2023-01-01 00:55:08</td>\n",
       "      <td>2023-01-01 01:01:27</td>\n",
       "      <td>1.0</td>\n",
       "      <td>1.10</td>\n",
       "      <td>1.0</td>\n",
       "      <td>N</td>\n",
       "      <td>43</td>\n",
       "      <td>237</td>\n",
       "      <td>1</td>\n",
       "      <td>7.9</td>\n",
       "      <td>1.00</td>\n",
       "      <td>0.5</td>\n",
       "      <td>4.00</td>\n",
       "      <td>0.0</td>\n",
       "      <td>1.0</td>\n",
       "      <td>16.90</td>\n",
       "      <td>2.5</td>\n",
       "      <td>0.00</td>\n",
       "    </tr>\n",
       "    <tr>\n",
       "      <th>2</th>\n",
       "      <td>2</td>\n",
       "      <td>2023-01-01 00:25:04</td>\n",
       "      <td>2023-01-01 00:37:49</td>\n",
       "      <td>1.0</td>\n",
       "      <td>2.51</td>\n",
       "      <td>1.0</td>\n",
       "      <td>N</td>\n",
       "      <td>48</td>\n",
       "      <td>238</td>\n",
       "      <td>1</td>\n",
       "      <td>14.9</td>\n",
       "      <td>1.00</td>\n",
       "      <td>0.5</td>\n",
       "      <td>15.00</td>\n",
       "      <td>0.0</td>\n",
       "      <td>1.0</td>\n",
       "      <td>34.90</td>\n",
       "      <td>2.5</td>\n",
       "      <td>0.00</td>\n",
       "    </tr>\n",
       "    <tr>\n",
       "      <th>3</th>\n",
       "      <td>1</td>\n",
       "      <td>2023-01-01 00:03:48</td>\n",
       "      <td>2023-01-01 00:13:25</td>\n",
       "      <td>0.0</td>\n",
       "      <td>1.90</td>\n",
       "      <td>1.0</td>\n",
       "      <td>N</td>\n",
       "      <td>138</td>\n",
       "      <td>7</td>\n",
       "      <td>1</td>\n",
       "      <td>12.1</td>\n",
       "      <td>7.25</td>\n",
       "      <td>0.5</td>\n",
       "      <td>0.00</td>\n",
       "      <td>0.0</td>\n",
       "      <td>1.0</td>\n",
       "      <td>20.85</td>\n",
       "      <td>0.0</td>\n",
       "      <td>1.25</td>\n",
       "    </tr>\n",
       "    <tr>\n",
       "      <th>4</th>\n",
       "      <td>2</td>\n",
       "      <td>2023-01-01 00:10:29</td>\n",
       "      <td>2023-01-01 00:21:19</td>\n",
       "      <td>1.0</td>\n",
       "      <td>1.43</td>\n",
       "      <td>1.0</td>\n",
       "      <td>N</td>\n",
       "      <td>107</td>\n",
       "      <td>79</td>\n",
       "      <td>1</td>\n",
       "      <td>11.4</td>\n",
       "      <td>1.00</td>\n",
       "      <td>0.5</td>\n",
       "      <td>3.28</td>\n",
       "      <td>0.0</td>\n",
       "      <td>1.0</td>\n",
       "      <td>19.68</td>\n",
       "      <td>2.5</td>\n",
       "      <td>0.00</td>\n",
       "    </tr>\n",
       "  </tbody>\n",
       "</table>\n",
       "</div>"
      ],
      "text/plain": [
       "   VendorID tpep_pickup_datetime tpep_dropoff_datetime  passenger_count  \\\n",
       "0         2  2023-01-01 00:32:10   2023-01-01 00:40:36              1.0   \n",
       "1         2  2023-01-01 00:55:08   2023-01-01 01:01:27              1.0   \n",
       "2         2  2023-01-01 00:25:04   2023-01-01 00:37:49              1.0   \n",
       "3         1  2023-01-01 00:03:48   2023-01-01 00:13:25              0.0   \n",
       "4         2  2023-01-01 00:10:29   2023-01-01 00:21:19              1.0   \n",
       "\n",
       "   trip_distance  RatecodeID store_and_fwd_flag  PULocationID  DOLocationID  \\\n",
       "0           0.97         1.0                  N           161           141   \n",
       "1           1.10         1.0                  N            43           237   \n",
       "2           2.51         1.0                  N            48           238   \n",
       "3           1.90         1.0                  N           138             7   \n",
       "4           1.43         1.0                  N           107            79   \n",
       "\n",
       "   payment_type  fare_amount  extra  mta_tax  tip_amount  tolls_amount  \\\n",
       "0             2          9.3   1.00      0.5        0.00           0.0   \n",
       "1             1          7.9   1.00      0.5        4.00           0.0   \n",
       "2             1         14.9   1.00      0.5       15.00           0.0   \n",
       "3             1         12.1   7.25      0.5        0.00           0.0   \n",
       "4             1         11.4   1.00      0.5        3.28           0.0   \n",
       "\n",
       "   improvement_surcharge  total_amount  congestion_surcharge  airport_fee  \n",
       "0                    1.0         14.30                   2.5         0.00  \n",
       "1                    1.0         16.90                   2.5         0.00  \n",
       "2                    1.0         34.90                   2.5         0.00  \n",
       "3                    1.0         20.85                   0.0         1.25  \n",
       "4                    1.0         19.68                   2.5         0.00  "
      ]
     },
     "execution_count": 113,
     "metadata": {},
     "output_type": "execute_result"
    }
   ],
   "source": [
    "df_jan = pd.read_parquet('https://d37ci6vzurychx.cloudfront.net/trip-data/yellow_tripdata_2023-01.parquet')\n",
    "df_jan.head()"
   ]
  },
  {
   "cell_type": "markdown",
   "id": "4de9f05b-5773-4fb6-80c6-b882e433be52",
   "metadata": {},
   "source": [
    "# Question 1 : Number of cloumns"
   ]
  },
  {
   "cell_type": "code",
   "execution_count": 114,
   "id": "e2033077-db95-4d9a-a80a-b21b90b4ce96",
   "metadata": {
    "tags": []
   },
   "outputs": [
    {
     "data": {
      "text/plain": [
       "19"
      ]
     },
     "execution_count": 114,
     "metadata": {},
     "output_type": "execute_result"
    }
   ],
   "source": [
    "len(df_jan.columns)"
   ]
  },
  {
   "cell_type": "markdown",
   "id": "add6168b-11ea-47e9-afdc-0a8af97bfd14",
   "metadata": {
    "tags": []
   },
   "source": [
    "# Question2 : Computing duration"
   ]
  },
  {
   "cell_type": "code",
   "execution_count": 115,
   "id": "9a4bd3dd-1527-4f88-b1d9-94813ec567da",
   "metadata": {
    "tags": []
   },
   "outputs": [
    {
     "data": {
      "text/plain": [
       "0   0 days 00:08:26\n",
       "1   0 days 00:06:19\n",
       "2   0 days 00:12:45\n",
       "3   0 days 00:09:37\n",
       "4   0 days 00:10:50\n",
       "Name: duration, dtype: timedelta64[ns]"
      ]
     },
     "execution_count": 115,
     "metadata": {},
     "output_type": "execute_result"
    }
   ],
   "source": [
    "df_jan['duration'] = df_jan['tpep_dropoff_datetime'] - df_jan['tpep_pickup_datetime']\n",
    "\n",
    "df_jan['duration'].head()"
   ]
  },
  {
   "cell_type": "code",
   "execution_count": 116,
   "id": "8c3750ed-007e-4277-b3ed-e4215e43c7f9",
   "metadata": {
    "tags": []
   },
   "outputs": [
    {
     "data": {
      "text/plain": [
       "0     8.433333\n",
       "1     6.316667\n",
       "2    12.750000\n",
       "3     9.616667\n",
       "4    10.833333\n",
       "Name: duration, dtype: float64"
      ]
     },
     "execution_count": 116,
     "metadata": {},
     "output_type": "execute_result"
    }
   ],
   "source": [
    "df_jan['duration'] = df_jan['duration'].dt.total_seconds() / 60\n",
    "df_jan['duration'].head()"
   ]
  },
  {
   "cell_type": "code",
   "execution_count": 117,
   "id": "706ca062-b30c-454a-aa09-c31e3c1741ec",
   "metadata": {
    "tags": []
   },
   "outputs": [
    {
     "data": {
      "text/plain": [
       "42.59435124195458"
      ]
     },
     "execution_count": 117,
     "metadata": {},
     "output_type": "execute_result"
    }
   ],
   "source": [
    "# standard deviation of the trips duration in January\n",
    "df_jan.duration.std()"
   ]
  },
  {
   "cell_type": "markdown",
   "id": "5b6f6ff6-e0a2-48ff-81eb-20e96f88800b",
   "metadata": {
    "tags": []
   },
   "source": [
    "# Question3:\n",
    "Next, we need to check the distribution of the duration variable. \n",
    "There are some outliers. Let's remove them and keep only the records where the duration was\n",
    "between 1 and 60 minutes (inclusive).\n",
    "\n",
    "What fraction of the records left after you dropped the outliers?"
   ]
  },
  {
   "cell_type": "code",
   "execution_count": 126,
   "id": "0bc98881-e8a2-4f80-8404-8894805be913",
   "metadata": {
    "tags": []
   },
   "outputs": [],
   "source": [
    "df_filtered = df_jan[(df_jan['duration'] >= 1) & (df_jan['duration'] <= 60)].copy()"
   ]
  },
  {
   "cell_type": "code",
   "execution_count": 127,
   "id": "d8ce4f39-7728-4594-8f5d-20be0b97eaf0",
   "metadata": {
    "tags": []
   },
   "outputs": [],
   "source": [
    "filter_size, columns = df_filtered.shape"
   ]
  },
  {
   "cell_type": "code",
   "execution_count": 128,
   "id": "4039bd89-4a19-42dc-851e-085219ee81f4",
   "metadata": {
    "tags": []
   },
   "outputs": [],
   "source": [
    "raw_size, columns = df_jan.shape"
   ]
  },
  {
   "cell_type": "code",
   "execution_count": 129,
   "id": "becc5260-cea8-4729-8afa-eb4953a17c50",
   "metadata": {
    "tags": []
   },
   "outputs": [
    {
     "data": {
      "text/plain": [
       "98.0"
      ]
     },
     "execution_count": 129,
     "metadata": {},
     "output_type": "execute_result"
    }
   ],
   "source": [
    "round(((filter_size/raw_size) * 100), 0)"
   ]
  },
  {
   "cell_type": "code",
   "execution_count": 105,
   "id": "3480ca81-6ecd-48d5-a1b5-497426374839",
   "metadata": {
    "tags": []
   },
   "outputs": [
    {
     "data": {
      "text/plain": [
       "(3009173, 20)"
      ]
     },
     "execution_count": 105,
     "metadata": {},
     "output_type": "execute_result"
    }
   ],
   "source": [
    "df_filtered.shape"
   ]
  },
  {
   "cell_type": "markdown",
   "id": "c0ce243b-91ca-4d02-a33a-654a12766ec5",
   "metadata": {},
   "source": [
    "## Q4. One-hot encoding\n",
    "### What's the dimensionality of this matrix (number of columns)?"
   ]
  },
  {
   "cell_type": "code",
   "execution_count": 130,
   "id": "b6bed467-be59-409d-a9c8-6c08a9f602ac",
   "metadata": {
    "tags": []
   },
   "outputs": [],
   "source": [
    "categorical = ['PULocationID', 'DOLocationID']\n",
    "numerical = ['trip_distance']\n",
    "\n",
    "df_filtered[categorical] = df_filtered[categorical].astype(str)"
   ]
  },
  {
   "cell_type": "code",
   "execution_count": 131,
   "id": "67a2852e-a8cd-4d24-ba98-3e9853cf9f82",
   "metadata": {
    "tags": []
   },
   "outputs": [],
   "source": [
    "train_dicts = df_filtered[categorical].to_dict(orient='records')"
   ]
  },
  {
   "cell_type": "code",
   "execution_count": 132,
   "id": "9c74e72b-215e-41ce-b4f6-626e76a736b5",
   "metadata": {
    "tags": []
   },
   "outputs": [],
   "source": [
    "dv = DictVectorizer()\n",
    "X_train = dv.fit_transform(train_dicts)"
   ]
  },
  {
   "cell_type": "code",
   "execution_count": 138,
   "id": "e922917f-4fe9-4079-a1a0-75a3170b7e54",
   "metadata": {
    "tags": []
   },
   "outputs": [
    {
     "name": "stdout",
     "output_type": "stream",
     "text": [
      "number of columns: 515\n"
     ]
    }
   ],
   "source": [
    "print(\"number of columns:\",  X_train.shape[1])"
   ]
  },
  {
   "cell_type": "markdown",
   "id": "9eb35c8e-30e7-49c9-b99d-b8b970fe0d5a",
   "metadata": {},
   "source": [
    "### Q5:  Training the model\n",
    "\n",
    "#### Root mean square value is "
   ]
  },
  {
   "cell_type": "code",
   "execution_count": 139,
   "id": "ee0af823-3dd6-4847-81b4-b9bd62964f9e",
   "metadata": {
    "tags": []
   },
   "outputs": [
    {
     "data": {
      "text/plain": [
       "7.649261934850555"
      ]
     },
     "execution_count": 139,
     "metadata": {},
     "output_type": "execute_result"
    }
   ],
   "source": [
    "target = 'duration'\n",
    "y_train = df_filtered[target].values\n",
    "\n",
    "lr = LinearRegression()\n",
    "lr.fit(X_train, y_train)\n",
    "\n",
    "y_pred = lr.predict(X_train)\n",
    "\n",
    "root_mean_squared_error(y_train, y_pred)"
   ]
  },
  {
   "cell_type": "markdown",
   "id": "06fef9a2-952b-4166-85ff-06cebab0f2d9",
   "metadata": {},
   "source": [
    "### Q6: evaluating the model"
   ]
  },
  {
   "cell_type": "code",
   "execution_count": 141,
   "id": "40e1be06-0ad8-413c-9f11-ef1909809cde",
   "metadata": {
    "tags": []
   },
   "outputs": [],
   "source": [
    "df_eval = pd.read_parquet('https://d37ci6vzurychx.cloudfront.net/trip-data/yellow_tripdata_2023-02.parquet')\n"
   ]
  },
  {
   "cell_type": "code",
   "execution_count": 142,
   "id": "24ab5e77-0db3-4e40-a51e-57b63a112c74",
   "metadata": {
    "tags": []
   },
   "outputs": [],
   "source": [
    "df_eval['duration'] = df_eval.tpep_dropoff_datetime - df_eval.tpep_pickup_datetime\n",
    "df_eval.duration = df_eval.duration.dt.total_seconds() / 60"
   ]
  },
  {
   "cell_type": "code",
   "execution_count": 143,
   "id": "bcbca8e8-016e-4fa1-be6a-ae791ba30ca6",
   "metadata": {
    "tags": []
   },
   "outputs": [
    {
     "data": {
      "text/plain": [
       "0     1.683333\n",
       "1     0.233333\n",
       "2     0.233333\n",
       "3    32.083333\n",
       "4    13.300000\n",
       "Name: duration, dtype: float64"
      ]
     },
     "execution_count": 143,
     "metadata": {},
     "output_type": "execute_result"
    }
   ],
   "source": [
    "df_eval['duration'].head()"
   ]
  },
  {
   "cell_type": "code",
   "execution_count": 146,
   "id": "09db92a3-345e-411f-81c5-96a5d674e733",
   "metadata": {
    "tags": []
   },
   "outputs": [
    {
     "data": {
      "text/plain": [
       "42.84210176105113"
      ]
     },
     "execution_count": 146,
     "metadata": {},
     "output_type": "execute_result"
    }
   ],
   "source": [
    "df_eval.duration.std()"
   ]
  },
  {
   "cell_type": "code",
   "execution_count": 149,
   "id": "fd7cf9cc-f500-4ecf-b6cd-164bccb56d37",
   "metadata": {
    "tags": []
   },
   "outputs": [],
   "source": [
    "df_eval[categorical] = df_eval[categorical].astype('str')\n",
    "eval_train = df_eval[categorical].to_dict(orient='records')\n",
    "eval_train_dicts = dv.transform(eval_train)"
   ]
  },
  {
   "cell_type": "code",
   "execution_count": 150,
   "id": "a6fed6c7-b36a-494c-b799-acdaa640d2a8",
   "metadata": {
    "tags": []
   },
   "outputs": [],
   "source": [
    "y_values_eval = df_eval['duration']\n",
    "\n",
    "y_pred = lr.predict(eval_train_dicts)"
   ]
  },
  {
   "cell_type": "code",
   "execution_count": 152,
   "id": "71fafe14-fb4b-4764-8591-88dd19ed13be",
   "metadata": {
    "tags": []
   },
   "outputs": [
    {
     "data": {
      "text/plain": [
       "42.284775704546334"
      ]
     },
     "execution_count": 152,
     "metadata": {},
     "output_type": "execute_result"
    }
   ],
   "source": [
    "root_mean_squared_error(y_values_eval, y_pred)"
   ]
  },
  {
   "cell_type": "code",
   "execution_count": 167,
   "id": "512924fa-2f64-4d1d-9ffc-f7021f4ba1c5",
   "metadata": {
    "tags": []
   },
   "outputs": [],
   "source": [
    "# filtering the records to get the correct value\n",
    "df_eval = df_eval[(df_eval.duration >= 1) & (df_eval.duration <= 60)].copy()"
   ]
  },
  {
   "cell_type": "code",
   "execution_count": 161,
   "id": "8075a6af-daef-4aee-ae46-8a1cd6369bc3",
   "metadata": {
    "tags": []
   },
   "outputs": [],
   "source": [
    "eval_train = df_eval[categorical].to_dict(orient='records')"
   ]
  },
  {
   "cell_type": "code",
   "execution_count": 162,
   "id": "d714597d-fd07-4efa-9056-0743d72058ac",
   "metadata": {
    "tags": []
   },
   "outputs": [],
   "source": [
    "eval_train_dicts = dv.transform(eval_train)"
   ]
  },
  {
   "cell_type": "code",
   "execution_count": 163,
   "id": "b4ad8561-1f9b-41dd-a615-031979687c54",
   "metadata": {
    "tags": []
   },
   "outputs": [],
   "source": [
    "y_values_eval = df_eval['duration']\n"
   ]
  },
  {
   "cell_type": "code",
   "execution_count": 164,
   "id": "958032fe-da09-4d38-9c95-b6aa89fc340c",
   "metadata": {
    "tags": []
   },
   "outputs": [],
   "source": [
    "y_pred = lr.predict(eval_train_dicts)"
   ]
  },
  {
   "cell_type": "markdown",
   "id": "a216bd36-bc44-48db-9ad6-210ba193adb4",
   "metadata": {},
   "source": [
    "#### Root mean squared value is "
   ]
  },
  {
   "cell_type": "code",
   "execution_count": 165,
   "id": "4bf14fba-f19f-4973-b220-2f5be82ff0f3",
   "metadata": {
    "tags": []
   },
   "outputs": [
    {
     "data": {
      "text/plain": [
       "7.811817745843695"
      ]
     },
     "execution_count": 165,
     "metadata": {},
     "output_type": "execute_result"
    }
   ],
   "source": [
    "root_mean_squared_error(y_values_eval, y_pred)"
   ]
  }
 ],
 "metadata": {
  "environment": {
   "kernel": "python3",
   "name": "tf2-cpu.2-16.m123",
   "type": "gcloud",
   "uri": "us-docker.pkg.dev/deeplearning-platform-release/gcr.io/tf2-cpu.2-16:m123"
  },
  "kernelspec": {
   "display_name": "Python 3",
   "language": "python",
   "name": "python3"
  },
  "language_info": {
   "codemirror_mode": {
    "name": "ipython",
    "version": 3
   },
   "file_extension": ".py",
   "mimetype": "text/x-python",
   "name": "python",
   "nbconvert_exporter": "python",
   "pygments_lexer": "ipython3",
   "version": "3.10.14"
  }
 },
 "nbformat": 4,
 "nbformat_minor": 5
}
